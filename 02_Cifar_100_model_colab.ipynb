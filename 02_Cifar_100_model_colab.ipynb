{
  "nbformat": 4,
  "nbformat_minor": 0,
  "metadata": {
    "colab": {
      "name": "02.Cifar-100-model_colab.ipynb",
      "provenance": [],
      "collapsed_sections": [],
      "authorship_tag": "ABX9TyOGOK0qhRoiGb8e0z8tqN+G",
      "include_colab_link": true
    },
    "kernelspec": {
      "name": "python3",
      "display_name": "Python 3"
    },
    "accelerator": "GPU"
  },
  "cells": [
    {
      "cell_type": "markdown",
      "metadata": {
        "id": "view-in-github",
        "colab_type": "text"
      },
      "source": [
        "<a href=\"https://colab.research.google.com/github/JuhyoenOh/Deep-Learning-with-Colab/blob/master/02_Cifar_100_model_colab.ipynb\" target=\"_parent\"><img src=\"https://colab.research.google.com/assets/colab-badge.svg\" alt=\"Open In Colab\"/></a>"
      ]
    },
    {
      "cell_type": "code",
      "metadata": {
        "id": "vbwO6RmXwxMJ",
        "colab_type": "code",
        "colab": {}
      },
      "source": [
        "!mkdir model"
      ],
      "execution_count": null,
      "outputs": []
    },
    {
      "cell_type": "code",
      "metadata": {
        "id": "TX1b8Zp-w1BQ",
        "colab_type": "code",
        "colab": {
          "base_uri": "https://localhost:8080/",
          "height": 71
        },
        "outputId": "3d4dea1f-3cf5-41d4-a8a9-578cd0d773ea"
      },
      "source": [
        "!ls -l"
      ],
      "execution_count": null,
      "outputs": [
        {
          "output_type": "stream",
          "text": [
            "total 8\n",
            "drwxr-xr-x 2 root root 4096 Jul  7 06:09 model\n",
            "drwxr-xr-x 1 root root 4096 Jun 26 16:26 sample_data\n"
          ],
          "name": "stdout"
        }
      ]
    },
    {
      "cell_type": "code",
      "metadata": {
        "id": "NuWHBDzrw1y_",
        "colab_type": "code",
        "colab": {
          "base_uri": "https://localhost:8080/",
          "height": 35
        },
        "outputId": "dc639721-d557-44be-859f-ba7cc8fbf96b"
      },
      "source": [
        "%tensorflow_version 2.x\n",
        "import tensorflow as tf\n",
        "device_name = tf.test.gpu_device_name()\n",
        "if device_name != '/device:GPU:0':\n",
        "    raise SystemError('GPU device not found')\n",
        "print('Found GPU at: {}'.format(device_name))"
      ],
      "execution_count": null,
      "outputs": [
        {
          "output_type": "stream",
          "text": [
            "Found GPU at: /device:GPU:0\n"
          ],
          "name": "stdout"
        }
      ]
    },
    {
      "cell_type": "code",
      "metadata": {
        "id": "NreqJZ3Gpx1i",
        "colab_type": "code",
        "colab": {
          "base_uri": "https://localhost:8080/",
          "height": 53
        },
        "outputId": "9908b46b-6044-4c39-e8e4-a37a93b9b7f3"
      },
      "source": [
        "import tensorflow as tf\n",
        "from tensorflow.keras.datasets import cifar100\n",
        "(X_train, y_train), (X_test, y_test) = cifar100.load_data(label_mode='fine')"
      ],
      "execution_count": null,
      "outputs": [
        {
          "output_type": "stream",
          "text": [
            "Downloading data from https://www.cs.toronto.edu/~kriz/cifar-100-python.tar.gz\n",
            "169009152/169001437 [==============================] - 6s 0us/step\n"
          ],
          "name": "stdout"
        }
      ]
    },
    {
      "cell_type": "code",
      "metadata": {
        "id": "4hFQySITqnbG",
        "colab_type": "code",
        "colab": {
          "base_uri": "https://localhost:8080/",
          "height": 35
        },
        "outputId": "357dc1f0-51d0-4a34-84f3-4aaf5126726f"
      },
      "source": [
        "X_train.shape, X_test.shape"
      ],
      "execution_count": null,
      "outputs": [
        {
          "output_type": "execute_result",
          "data": {
            "text/plain": [
              "((50000, 32, 32, 3), (10000, 32, 32, 3))"
            ]
          },
          "metadata": {
            "tags": []
          },
          "execution_count": 5
        }
      ]
    },
    {
      "cell_type": "code",
      "metadata": {
        "id": "t7o8fKviqonc",
        "colab_type": "code",
        "colab": {
          "base_uri": "https://localhost:8080/",
          "height": 197
        },
        "outputId": "ad457c12-e8c7-401e-c3a1-6c9e5b0b3a18"
      },
      "source": [
        "y_train[:10]"
      ],
      "execution_count": null,
      "outputs": [
        {
          "output_type": "execute_result",
          "data": {
            "text/plain": [
              "array([[19],\n",
              "       [29],\n",
              "       [ 0],\n",
              "       [11],\n",
              "       [ 1],\n",
              "       [86],\n",
              "       [90],\n",
              "       [28],\n",
              "       [23],\n",
              "       [31]])"
            ]
          },
          "metadata": {
            "tags": []
          },
          "execution_count": 6
        }
      ]
    },
    {
      "cell_type": "code",
      "metadata": {
        "id": "OzjzWOj7qphE",
        "colab_type": "code",
        "colab": {}
      },
      "source": [
        "CIFAR100_LABELS = [\n",
        "    'apple', 'aquarium_fish', 'baby', 'bear', 'beaver', 'bed', 'bee', 'beetle', \n",
        "    'bicycle', 'bottle', 'bowl', 'boy', 'bridge', 'bus', 'butterfly', 'camel', \n",
        "    'can', 'castle', 'caterpillar', 'cattle', 'chair', 'chimpanzee', 'clock', \n",
        "    'cloud', 'cockroach', 'couch', 'crab', 'crocodile', 'cup', 'dinosaur', \n",
        "    'dolphin', 'elephant', 'flatfish', 'forest', 'fox', 'girl', 'hamster', \n",
        "    'house', 'kangaroo', 'keyboard', 'lamp', 'lawn_mower', 'leopard', 'lion',\n",
        "    'lizard', 'lobster', 'man', 'maple_tree', 'motorcycle', 'mountain', 'mouse',\n",
        "    'mushroom', 'oak_tree', 'orange', 'orchid', 'otter', 'palm_tree', 'pear',\n",
        "    'pickup_truck', 'pine_tree', 'plain', 'plate', 'poppy', 'porcupine',\n",
        "    'possum', 'rabbit', 'raccoon', 'ray', 'road', 'rocket', 'rose',\n",
        "    'sea', 'seal', 'shark', 'shrew', 'skunk', 'skyscraper', 'snail', 'snake',\n",
        "    'spider', 'squirrel', 'streetcar', 'sunflower', 'sweet_pepper', 'table',\n",
        "    'tank', 'telephone', 'television', 'tiger', 'tractor', 'train', 'trout',\n",
        "    'tulip', 'turtle', 'wardrobe', 'whale', 'willow_tree', 'wolf', 'woman',\n",
        "    'worm'\n",
        "]\n",
        " "
      ],
      "execution_count": null,
      "outputs": []
    },
    {
      "cell_type": "markdown",
      "metadata": {
        "id": "TOG6PCrXsFdI",
        "colab_type": "text"
      },
      "source": [
        "데이터 확인"
      ]
    },
    {
      "cell_type": "code",
      "metadata": {
        "id": "c16AL4nnqsAc",
        "colab_type": "code",
        "colab": {
          "base_uri": "https://localhost:8080/",
          "height": 124
        },
        "outputId": "853865c4-ddcd-4b9b-8f23-0a9b3b07f900"
      },
      "source": [
        "import matplotlib as mpl\n",
        "import matplotlib.pyplot as plt\n",
        "%matplotlib inline\n",
        "\n",
        "plt.subplot(141)\n",
        "plt.imshow(X_train[0], interpolation=\"bicubic\")\n",
        "plt.grid(False)\n",
        "plt.subplot(142)\n",
        "plt.imshow(X_train[4], interpolation=\"bicubic\")\n",
        "plt.grid(False)\n",
        "plt.subplot(143)\n",
        "plt.imshow(X_train[8], interpolation=\"bicubic\")\n",
        "plt.grid(False)\n",
        "plt.subplot(144)\n",
        "plt.imshow(X_train[12], interpolation=\"bicubic\")\n",
        "plt.grid(False)\n",
        "plt.show()"
      ],
      "execution_count": null,
      "outputs": [
        {
          "output_type": "display_data",
          "data": {
            "image/png": "[encoded data removed]",
            "text/plain": [
              "<Figure size 432x288 with 4 Axes>"
            ]
          },
          "metadata": {
            "tags": [],
            "needs_background": "light"
          }
        }
      ]
    },
    {
      "cell_type": "code",
      "metadata": {
        "id": "vFge2Yk-quJs",
        "colab_type": "code",
        "colab": {
          "base_uri": "https://localhost:8080/",
          "height": 35
        },
        "outputId": "90b50694-a3b1-42b9-ba06-7c67f3cc2fb3"
      },
      "source": [
        "y_train[0][0]"
      ],
      "execution_count": null,
      "outputs": [
        {
          "output_type": "execute_result",
          "data": {
            "text/plain": [
              "19"
            ]
          },
          "metadata": {
            "tags": []
          },
          "execution_count": 9
        }
      ]
    },
    {
      "cell_type": "markdown",
      "metadata": {
        "id": "WHcl_Hn7q82m",
        "colab_type": "text"
      },
      "source": [
        "\n",
        "자료형 변환 및 스케일링\n",
        "\n",
        "*   X: 실수형으로 정규화\n",
        "*   Y: 1-hot encoding\n",
        "\n"
      ]
    },
    {
      "cell_type": "code",
      "metadata": {
        "id": "gauekh3jqvws",
        "colab_type": "code",
        "colab": {
          "base_uri": "https://localhost:8080/",
          "height": 35
        },
        "outputId": "045e4fcf-cf5e-4a74-9768-291d778fba4a"
      },
      "source": [
        "CIFAR100_LABELS[y_train[0][0]],CIFAR100_LABELS[y_train[4][0]],CIFAR100_LABELS[y_train[8][0]],CIFAR100_LABELS[y_train[12][0]]"
      ],
      "execution_count": null,
      "outputs": [
        {
          "output_type": "execute_result",
          "data": {
            "text/plain": [
              "('cattle', 'aquarium_fish', 'cloud', 'sunflower')"
            ]
          },
          "metadata": {
            "tags": []
          },
          "execution_count": 10
        }
      ]
    },
    {
      "cell_type": "code",
      "metadata": {
        "id": "XdQCMcr_qxF7",
        "colab_type": "code",
        "colab": {
          "base_uri": "https://localhost:8080/",
          "height": 35
        },
        "outputId": "19c472ad-7de9-4b5e-aed8-2dfff1790c53"
      },
      "source": [
        "X_train = X_train.astype('float32')/255.0\n",
        "X_test = X_test.astype('float32')/255.0\n",
        "\n",
        "print(X_train.shape, X_train.dtype)"
      ],
      "execution_count": null,
      "outputs": [
        {
          "output_type": "stream",
          "text": [
            "(50000, 32, 32, 3) float32\n"
          ],
          "name": "stdout"
        }
      ]
    },
    {
      "cell_type": "code",
      "metadata": {
        "id": "IHJ2dOdDqyrc",
        "colab_type": "code",
        "colab": {
          "base_uri": "https://localhost:8080/",
          "height": 269
        },
        "outputId": "9d1fec24-7a64-40ad-f100-69f16e43acd6"
      },
      "source": [
        "Y_train = tf.keras.utils.to_categorical(y_train, 100)\n",
        "Y_test = tf.keras.utils.to_categorical(y_test, 100)\n",
        "Y_train[:2]"
      ],
      "execution_count": null,
      "outputs": [
        {
          "output_type": "execute_result",
          "data": {
            "text/plain": [
              "array([[0., 0., 0., 0., 0., 0., 0., 0., 0., 0., 0., 0., 0., 0., 0., 0.,\n",
              "        0., 0., 0., 1., 0., 0., 0., 0., 0., 0., 0., 0., 0., 0., 0., 0.,\n",
              "        0., 0., 0., 0., 0., 0., 0., 0., 0., 0., 0., 0., 0., 0., 0., 0.,\n",
              "        0., 0., 0., 0., 0., 0., 0., 0., 0., 0., 0., 0., 0., 0., 0., 0.,\n",
              "        0., 0., 0., 0., 0., 0., 0., 0., 0., 0., 0., 0., 0., 0., 0., 0.,\n",
              "        0., 0., 0., 0., 0., 0., 0., 0., 0., 0., 0., 0., 0., 0., 0., 0.,\n",
              "        0., 0., 0., 0.],\n",
              "       [0., 0., 0., 0., 0., 0., 0., 0., 0., 0., 0., 0., 0., 0., 0., 0.,\n",
              "        0., 0., 0., 0., 0., 0., 0., 0., 0., 0., 0., 0., 0., 1., 0., 0.,\n",
              "        0., 0., 0., 0., 0., 0., 0., 0., 0., 0., 0., 0., 0., 0., 0., 0.,\n",
              "        0., 0., 0., 0., 0., 0., 0., 0., 0., 0., 0., 0., 0., 0., 0., 0.,\n",
              "        0., 0., 0., 0., 0., 0., 0., 0., 0., 0., 0., 0., 0., 0., 0., 0.,\n",
              "        0., 0., 0., 0., 0., 0., 0., 0., 0., 0., 0., 0., 0., 0., 0., 0.,\n",
              "        0., 0., 0., 0.]], dtype=float32)"
            ]
          },
          "metadata": {
            "tags": []
          },
          "execution_count": 12
        }
      ]
    },
    {
      "cell_type": "code",
      "metadata": {
        "id": "-mZdxABmqz-E",
        "colab_type": "code",
        "colab": {}
      },
      "source": [
        "from sklearn.model_selection import train_test_split\n",
        "\n",
        "seed = 0\n",
        "X_train, X_test, Y_train, Y_test = train_test_split(X_test, Y_test, test_size=.2, random_state=seed)"
      ],
      "execution_count": null,
      "outputs": []
    },
    {
      "cell_type": "markdown",
      "metadata": {
        "id": "HrKtxesBrch3",
        "colab_type": "text"
      },
      "source": [
        "모형구현"
      ]
    },
    {
      "cell_type": "code",
      "metadata": {
        "id": "X1wKm0rJq1ir",
        "colab_type": "code",
        "colab": {}
      },
      "source": [
        "from tensorflow.keras.models import Sequential\n",
        "from tensorflow.keras.layers import Conv2D, MaxPooling2D, Flatten, Dense, Dropout\n",
        "from tensorflow.keras.layers import Activation"
      ],
      "execution_count": null,
      "outputs": []
    },
    {
      "cell_type": "code",
      "metadata": {
        "id": "vYDzED72ra4j",
        "colab_type": "code",
        "colab": {
          "base_uri": "https://localhost:8080/",
          "height": 845
        },
        "outputId": "2238972a-1433-4fa5-dd76-49a358e70d9a"
      },
      "source": [
        "model = Sequential()\n",
        "\n",
        "# Input Layer\n",
        "model.add(Conv2D(32, (3,3), padding='same', input_shape = X_train.shape[1:]))\n",
        "model.add(Activation('relu'))\n",
        "# MAXPOOL Layer 1\n",
        "model.add(MaxPooling2D(pool_size=(2, 2)))\n",
        "model.add(Activation('relu'))\n",
        "# CONV2D Layer 2\n",
        "model.add(Conv2D(64, (3,3), padding='same'))\n",
        "model.add(Activation('relu'))\n",
        "# MAXPOOL Layer 2\n",
        "model.add(MaxPooling2D(pool_size=(2, 2)))\n",
        "model.add(Activation('relu'))\n",
        "# Add a dropout of 10%\n",
        "model.add(Dropout(0.1))\n",
        "# CONV2D Layer 3\n",
        "model.add(Conv2D(128, (3,3), padding='same'))\n",
        "model.add(Activation('relu'))\n",
        "# MAXPOOL Layer 3\n",
        "model.add(MaxPooling2D(pool_size=(2,2)))\n",
        "# Add dropout of 25%\n",
        "model.add(Dropout(0.25))\n",
        "# flatten \n",
        "model.add(Flatten())\n",
        "# Fully Connected Layer 1\n",
        "model.add(Dense(512))\n",
        "model.add(Activation('relu'))\n",
        "# Adding a dropout of 50%\n",
        "model.add(Dropout(0.5))\n",
        "# Output Layer (Fully Connected Layer 2) \n",
        "model.add(Dense(100))\n",
        "model.add(Activation('softmax'))\n",
        "          \n",
        "model.summary()"
      ],
      "execution_count": null,
      "outputs": [
        {
          "output_type": "stream",
          "text": [
            "Model: \"sequential\"\n",
            "_________________________________________________________________\n",
            "Layer (type)                 Output Shape              Param #   \n",
            "=================================================================\n",
            "conv2d (Conv2D)              (None, 32, 32, 32)        896       \n",
            "_________________________________________________________________\n",
            "activation (Activation)      (None, 32, 32, 32)        0         \n",
            "_________________________________________________________________\n",
            "max_pooling2d (MaxPooling2D) (None, 16, 16, 32)        0         \n",
            "_________________________________________________________________\n",
            "activation_1 (Activation)    (None, 16, 16, 32)        0         \n",
            "_________________________________________________________________\n",
            "conv2d_1 (Conv2D)            (None, 16, 16, 64)        18496     \n",
            "_________________________________________________________________\n",
            "activation_2 (Activation)    (None, 16, 16, 64)        0         \n",
            "_________________________________________________________________\n",
            "max_pooling2d_1 (MaxPooling2 (None, 8, 8, 64)          0         \n",
            "_________________________________________________________________\n",
            "activation_3 (Activation)    (None, 8, 8, 64)          0         \n",
            "_________________________________________________________________\n",
            "dropout (Dropout)            (None, 8, 8, 64)          0         \n",
            "_________________________________________________________________\n",
            "conv2d_2 (Conv2D)            (None, 8, 8, 128)         73856     \n",
            "_________________________________________________________________\n",
            "activation_4 (Activation)    (None, 8, 8, 128)         0         \n",
            "_________________________________________________________________\n",
            "max_pooling2d_2 (MaxPooling2 (None, 4, 4, 128)         0         \n",
            "_________________________________________________________________\n",
            "dropout_1 (Dropout)          (None, 4, 4, 128)         0         \n",
            "_________________________________________________________________\n",
            "flatten (Flatten)            (None, 2048)              0         \n",
            "_________________________________________________________________\n",
            "dense (Dense)                (None, 512)               1049088   \n",
            "_________________________________________________________________\n",
            "activation_5 (Activation)    (None, 512)               0         \n",
            "_________________________________________________________________\n",
            "dropout_2 (Dropout)          (None, 512)               0         \n",
            "_________________________________________________________________\n",
            "dense_1 (Dense)              (None, 100)               51300     \n",
            "_________________________________________________________________\n",
            "activation_6 (Activation)    (None, 100)               0         \n",
            "=================================================================\n",
            "Total params: 1,193,636\n",
            "Trainable params: 1,193,636\n",
            "Non-trainable params: 0\n",
            "_________________________________________________________________\n"
          ],
          "name": "stdout"
        }
      ]
    },
    {
      "cell_type": "code",
      "metadata": {
        "id": "KRpCge5IrkB8",
        "colab_type": "code",
        "colab": {}
      },
      "source": [
        "opt = tf.keras.optimizers.Adam(lr=0.0001)\n",
        "model.compile(loss='categorical_crossentropy', optimizer=opt, metrics=['accuracy'])"
      ],
      "execution_count": null,
      "outputs": []
    },
    {
      "cell_type": "code",
      "metadata": {
        "id": "6yVSGTc5zGhQ",
        "colab_type": "code",
        "colab": {}
      },
      "source": [
        "from tensorflow.keras.callbacks import ModelCheckpoint, EarlyStopping\n",
        "modelpath = \"model/Cifar_test-cnn.hdf5\"\n",
        "checkpointer = ModelCheckpoint(filepath=modelpath, monitor='val_loss',verbose=1, save_best_only=True)\n",
        "early_stopping_callback = EarlyStopping(monitor='val_loss', patience=20)"
      ],
      "execution_count": null,
      "outputs": []
    },
    {
      "cell_type": "code",
      "metadata": {
        "id": "zvMf3jjIrmZE",
        "colab_type": "code",
        "colab": {
          "base_uri": "https://localhost:8080/",
          "height": 1000
        },
        "outputId": "664b22be-0654-4e0e-85e6-416a7a34286d"
      },
      "source": [
        "history = model.fit(X_train, Y_train, epochs=300, batch_size=50,\n",
        "                    validation_data=(X_test, Y_test),verbose=1,shuffle=True,\n",
        "                    callbacks=[checkpointer, early_stopping_callback])"
      ],
      "execution_count": null,
      "outputs": [
        {
          "output_type": "stream",
          "text": [
            "Epoch 1/300\n",
            "160/160 [==============================] - ETA: 0s - loss: 4.6018 - accuracy: 0.0114\n",
            "Epoch 00001: val_loss improved from inf to 4.58427, saving model to model/Cifar_test-cnn.hdf5\n",
            "160/160 [==============================] - 2s 15ms/step - loss: 4.6018 - accuracy: 0.0114 - val_loss: 4.5843 - val_accuracy: 0.0230\n",
            "Epoch 2/300\n",
            "160/160 [==============================] - ETA: 0s - loss: 4.5314 - accuracy: 0.0213\n",
            "Epoch 00002: val_loss improved from 4.58427 to 4.40345, saving model to model/Cifar_test-cnn.hdf5\n",
            "160/160 [==============================] - 2s 13ms/step - loss: 4.5314 - accuracy: 0.0213 - val_loss: 4.4034 - val_accuracy: 0.0380\n",
            "Epoch 3/300\n",
            "159/160 [============================>.] - ETA: 0s - loss: 4.3938 - accuracy: 0.0331\n",
            "Epoch 00003: val_loss improved from 4.40345 to 4.26115, saving model to model/Cifar_test-cnn.hdf5\n",
            "160/160 [==============================] - 2s 13ms/step - loss: 4.3932 - accuracy: 0.0333 - val_loss: 4.2612 - val_accuracy: 0.0680\n",
            "Epoch 4/300\n",
            "156/160 [============================>.] - ETA: 0s - loss: 4.2683 - accuracy: 0.0491\n",
            "Epoch 00004: val_loss improved from 4.26115 to 4.14304, saving model to model/Cifar_test-cnn.hdf5\n",
            "160/160 [==============================] - 2s 13ms/step - loss: 4.2664 - accuracy: 0.0494 - val_loss: 4.1430 - val_accuracy: 0.0880\n",
            "Epoch 5/300\n",
            "160/160 [==============================] - ETA: 0s - loss: 4.1470 - accuracy: 0.0655\n",
            "Epoch 00005: val_loss improved from 4.14304 to 3.97148, saving model to model/Cifar_test-cnn.hdf5\n",
            "160/160 [==============================] - 2s 13ms/step - loss: 4.1470 - accuracy: 0.0655 - val_loss: 3.9715 - val_accuracy: 0.1080\n",
            "Epoch 6/300\n",
            "160/160 [==============================] - ETA: 0s - loss: 4.0370 - accuracy: 0.0844\n",
            "Epoch 00006: val_loss improved from 3.97148 to 3.90441, saving model to model/Cifar_test-cnn.hdf5\n",
            "160/160 [==============================] - 2s 13ms/step - loss: 4.0370 - accuracy: 0.0844 - val_loss: 3.9044 - val_accuracy: 0.1240\n",
            "Epoch 7/300\n",
            "156/160 [============================>.] - ETA: 0s - loss: 3.9384 - accuracy: 0.1026\n",
            "Epoch 00007: val_loss improved from 3.90441 to 3.79846, saving model to model/Cifar_test-cnn.hdf5\n",
            "160/160 [==============================] - 2s 13ms/step - loss: 3.9349 - accuracy: 0.1031 - val_loss: 3.7985 - val_accuracy: 0.1410\n",
            "Epoch 8/300\n",
            "156/160 [============================>.] - ETA: 0s - loss: 3.8737 - accuracy: 0.1087\n",
            "Epoch 00008: val_loss improved from 3.79846 to 3.73201, saving model to model/Cifar_test-cnn.hdf5\n",
            "160/160 [==============================] - 2s 13ms/step - loss: 3.8733 - accuracy: 0.1099 - val_loss: 3.7320 - val_accuracy: 0.1460\n",
            "Epoch 9/300\n",
            "159/160 [============================>.] - ETA: 0s - loss: 3.8030 - accuracy: 0.1151\n",
            "Epoch 00009: val_loss improved from 3.73201 to 3.68705, saving model to model/Cifar_test-cnn.hdf5\n",
            "160/160 [==============================] - 2s 13ms/step - loss: 3.8033 - accuracy: 0.1150 - val_loss: 3.6871 - val_accuracy: 0.1635\n",
            "Epoch 10/300\n",
            "159/160 [============================>.] - ETA: 0s - loss: 3.7330 - accuracy: 0.1361\n",
            "Epoch 00010: val_loss improved from 3.68705 to 3.63536, saving model to model/Cifar_test-cnn.hdf5\n",
            "160/160 [==============================] - 2s 13ms/step - loss: 3.7332 - accuracy: 0.1360 - val_loss: 3.6354 - val_accuracy: 0.1680\n",
            "Epoch 11/300\n",
            "156/160 [============================>.] - ETA: 0s - loss: 3.6826 - accuracy: 0.1453\n",
            "Epoch 00011: val_loss improved from 3.63536 to 3.58857, saving model to model/Cifar_test-cnn.hdf5\n",
            "160/160 [==============================] - 2s 13ms/step - loss: 3.6786 - accuracy: 0.1462 - val_loss: 3.5886 - val_accuracy: 0.1795\n",
            "Epoch 12/300\n",
            "156/160 [============================>.] - ETA: 0s - loss: 3.6316 - accuracy: 0.1509\n",
            "Epoch 00012: val_loss improved from 3.58857 to 3.55494, saving model to model/Cifar_test-cnn.hdf5\n",
            "160/160 [==============================] - 2s 13ms/step - loss: 3.6287 - accuracy: 0.1514 - val_loss: 3.5549 - val_accuracy: 0.1790\n",
            "Epoch 13/300\n",
            "159/160 [============================>.] - ETA: 0s - loss: 3.5678 - accuracy: 0.1569\n",
            "Epoch 00013: val_loss improved from 3.55494 to 3.50826, saving model to model/Cifar_test-cnn.hdf5\n",
            "160/160 [==============================] - 2s 13ms/step - loss: 3.5680 - accuracy: 0.1573 - val_loss: 3.5083 - val_accuracy: 0.1870\n",
            "Epoch 14/300\n",
            "156/160 [============================>.] - ETA: 0s - loss: 3.5388 - accuracy: 0.1622\n",
            "Epoch 00014: val_loss improved from 3.50826 to 3.47422, saving model to model/Cifar_test-cnn.hdf5\n",
            "160/160 [==============================] - 2s 13ms/step - loss: 3.5379 - accuracy: 0.1629 - val_loss: 3.4742 - val_accuracy: 0.1860\n",
            "Epoch 15/300\n",
            "160/160 [==============================] - ETA: 0s - loss: 3.4869 - accuracy: 0.1744\n",
            "Epoch 00015: val_loss improved from 3.47422 to 3.44868, saving model to model/Cifar_test-cnn.hdf5\n",
            "160/160 [==============================] - 2s 13ms/step - loss: 3.4869 - accuracy: 0.1744 - val_loss: 3.4487 - val_accuracy: 0.1890\n",
            "Epoch 16/300\n",
            "156/160 [============================>.] - ETA: 0s - loss: 3.4319 - accuracy: 0.1844\n",
            "Epoch 00016: val_loss improved from 3.44868 to 3.41549, saving model to model/Cifar_test-cnn.hdf5\n",
            "160/160 [==============================] - 2s 13ms/step - loss: 3.4335 - accuracy: 0.1839 - val_loss: 3.4155 - val_accuracy: 0.2000\n",
            "Epoch 17/300\n",
            "159/160 [============================>.] - ETA: 0s - loss: 3.3945 - accuracy: 0.1908\n",
            "Epoch 00017: val_loss improved from 3.41549 to 3.39585, saving model to model/Cifar_test-cnn.hdf5\n",
            "160/160 [==============================] - 2s 13ms/step - loss: 3.3938 - accuracy: 0.1906 - val_loss: 3.3959 - val_accuracy: 0.2020\n",
            "Epoch 18/300\n",
            "159/160 [============================>.] - ETA: 0s - loss: 3.3645 - accuracy: 0.1955\n",
            "Epoch 00018: val_loss improved from 3.39585 to 3.37549, saving model to model/Cifar_test-cnn.hdf5\n",
            "160/160 [==============================] - 2s 13ms/step - loss: 3.3656 - accuracy: 0.1954 - val_loss: 3.3755 - val_accuracy: 0.2050\n",
            "Epoch 19/300\n",
            "160/160 [==============================] - ETA: 0s - loss: 3.3239 - accuracy: 0.2031\n",
            "Epoch 00019: val_loss improved from 3.37549 to 3.34957, saving model to model/Cifar_test-cnn.hdf5\n",
            "160/160 [==============================] - 2s 13ms/step - loss: 3.3239 - accuracy: 0.2031 - val_loss: 3.3496 - val_accuracy: 0.2120\n",
            "Epoch 20/300\n",
            "160/160 [==============================] - ETA: 0s - loss: 3.2829 - accuracy: 0.2091\n",
            "Epoch 00020: val_loss improved from 3.34957 to 3.33281, saving model to model/Cifar_test-cnn.hdf5\n",
            "160/160 [==============================] - 2s 13ms/step - loss: 3.2829 - accuracy: 0.2091 - val_loss: 3.3328 - val_accuracy: 0.2145\n",
            "Epoch 21/300\n",
            "160/160 [==============================] - ETA: 0s - loss: 3.2360 - accuracy: 0.2165\n",
            "Epoch 00021: val_loss improved from 3.33281 to 3.29965, saving model to model/Cifar_test-cnn.hdf5\n",
            "160/160 [==============================] - 2s 13ms/step - loss: 3.2360 - accuracy: 0.2165 - val_loss: 3.2996 - val_accuracy: 0.2115\n",
            "Epoch 22/300\n",
            "158/160 [============================>.] - ETA: 0s - loss: 3.1957 - accuracy: 0.2286\n",
            "Epoch 00022: val_loss improved from 3.29965 to 3.28463, saving model to model/Cifar_test-cnn.hdf5\n",
            "160/160 [==============================] - 2s 13ms/step - loss: 3.1994 - accuracy: 0.2275 - val_loss: 3.2846 - val_accuracy: 0.2200\n",
            "Epoch 23/300\n",
            "160/160 [==============================] - ETA: 0s - loss: 3.1734 - accuracy: 0.2274\n",
            "Epoch 00023: val_loss improved from 3.28463 to 3.26355, saving model to model/Cifar_test-cnn.hdf5\n",
            "160/160 [==============================] - 2s 13ms/step - loss: 3.1734 - accuracy: 0.2274 - val_loss: 3.2636 - val_accuracy: 0.2230\n",
            "Epoch 24/300\n",
            "160/160 [==============================] - ETA: 0s - loss: 3.1176 - accuracy: 0.2390\n",
            "Epoch 00024: val_loss improved from 3.26355 to 3.23619, saving model to model/Cifar_test-cnn.hdf5\n",
            "160/160 [==============================] - 2s 13ms/step - loss: 3.1176 - accuracy: 0.2390 - val_loss: 3.2362 - val_accuracy: 0.2325\n",
            "Epoch 25/300\n",
            "158/160 [============================>.] - ETA: 0s - loss: 3.0834 - accuracy: 0.2451\n",
            "Epoch 00025: val_loss improved from 3.23619 to 3.22782, saving model to model/Cifar_test-cnn.hdf5\n",
            "160/160 [==============================] - 2s 13ms/step - loss: 3.0846 - accuracy: 0.2446 - val_loss: 3.2278 - val_accuracy: 0.2335\n",
            "Epoch 26/300\n",
            "156/160 [============================>.] - ETA: 0s - loss: 3.0406 - accuracy: 0.2509\n",
            "Epoch 00026: val_loss improved from 3.22782 to 3.20704, saving model to model/Cifar_test-cnn.hdf5\n",
            "160/160 [==============================] - 2s 13ms/step - loss: 3.0394 - accuracy: 0.2515 - val_loss: 3.2070 - val_accuracy: 0.2420\n",
            "Epoch 27/300\n",
            "160/160 [==============================] - ETA: 0s - loss: 3.0159 - accuracy: 0.2546\n",
            "Epoch 00027: val_loss improved from 3.20704 to 3.19252, saving model to model/Cifar_test-cnn.hdf5\n",
            "160/160 [==============================] - 2s 13ms/step - loss: 3.0159 - accuracy: 0.2546 - val_loss: 3.1925 - val_accuracy: 0.2465\n",
            "Epoch 28/300\n",
            "159/160 [============================>.] - ETA: 0s - loss: 2.9833 - accuracy: 0.2635\n",
            "Epoch 00028: val_loss did not improve from 3.19252\n",
            "160/160 [==============================] - 2s 13ms/step - loss: 2.9841 - accuracy: 0.2632 - val_loss: 3.1970 - val_accuracy: 0.2365\n",
            "Epoch 29/300\n",
            "159/160 [============================>.] - ETA: 0s - loss: 2.9422 - accuracy: 0.2737\n",
            "Epoch 00029: val_loss improved from 3.19252 to 3.16690, saving model to model/Cifar_test-cnn.hdf5\n",
            "160/160 [==============================] - 2s 13ms/step - loss: 2.9430 - accuracy: 0.2733 - val_loss: 3.1669 - val_accuracy: 0.2465\n",
            "Epoch 30/300\n",
            "160/160 [==============================] - ETA: 0s - loss: 2.9210 - accuracy: 0.2718\n",
            "Epoch 00030: val_loss improved from 3.16690 to 3.15295, saving model to model/Cifar_test-cnn.hdf5\n",
            "160/160 [==============================] - 2s 13ms/step - loss: 2.9210 - accuracy: 0.2718 - val_loss: 3.1529 - val_accuracy: 0.2480\n",
            "Epoch 31/300\n",
            "160/160 [==============================] - ETA: 0s - loss: 2.8837 - accuracy: 0.2816\n",
            "Epoch 00031: val_loss improved from 3.15295 to 3.13546, saving model to model/Cifar_test-cnn.hdf5\n",
            "160/160 [==============================] - 2s 13ms/step - loss: 2.8837 - accuracy: 0.2816 - val_loss: 3.1355 - val_accuracy: 0.2515\n",
            "Epoch 32/300\n",
            "156/160 [============================>.] - ETA: 0s - loss: 2.8511 - accuracy: 0.2879\n",
            "Epoch 00032: val_loss improved from 3.13546 to 3.12144, saving model to model/Cifar_test-cnn.hdf5\n",
            "160/160 [==============================] - 2s 13ms/step - loss: 2.8516 - accuracy: 0.2885 - val_loss: 3.1214 - val_accuracy: 0.2550\n",
            "Epoch 33/300\n",
            "159/160 [============================>.] - ETA: 0s - loss: 2.8184 - accuracy: 0.2979\n",
            "Epoch 00033: val_loss did not improve from 3.12144\n",
            "160/160 [==============================] - 2s 13ms/step - loss: 2.8193 - accuracy: 0.2971 - val_loss: 3.1259 - val_accuracy: 0.2550\n",
            "Epoch 34/300\n",
            "156/160 [============================>.] - ETA: 0s - loss: 2.7904 - accuracy: 0.3036\n",
            "Epoch 00034: val_loss improved from 3.12144 to 3.09248, saving model to model/Cifar_test-cnn.hdf5\n",
            "160/160 [==============================] - 2s 13ms/step - loss: 2.7897 - accuracy: 0.3035 - val_loss: 3.0925 - val_accuracy: 0.2600\n",
            "Epoch 35/300\n",
            "160/160 [==============================] - ETA: 0s - loss: 2.7391 - accuracy: 0.3114\n",
            "Epoch 00035: val_loss improved from 3.09248 to 3.08825, saving model to model/Cifar_test-cnn.hdf5\n",
            "160/160 [==============================] - 2s 13ms/step - loss: 2.7391 - accuracy: 0.3114 - val_loss: 3.0882 - val_accuracy: 0.2640\n",
            "Epoch 36/300\n",
            "156/160 [============================>.] - ETA: 0s - loss: 2.7031 - accuracy: 0.3163\n",
            "Epoch 00036: val_loss improved from 3.08825 to 3.07316, saving model to model/Cifar_test-cnn.hdf5\n",
            "160/160 [==============================] - 2s 13ms/step - loss: 2.7051 - accuracy: 0.3153 - val_loss: 3.0732 - val_accuracy: 0.2670\n",
            "Epoch 37/300\n",
            "156/160 [============================>.] - ETA: 0s - loss: 2.6794 - accuracy: 0.3218\n",
            "Epoch 00037: val_loss did not improve from 3.07316\n",
            "160/160 [==============================] - 2s 12ms/step - loss: 2.6777 - accuracy: 0.3231 - val_loss: 3.0733 - val_accuracy: 0.2705\n",
            "Epoch 38/300\n",
            "159/160 [============================>.] - ETA: 0s - loss: 2.6516 - accuracy: 0.3301\n",
            "Epoch 00038: val_loss improved from 3.07316 to 3.06603, saving model to model/Cifar_test-cnn.hdf5\n",
            "160/160 [==============================] - 2s 13ms/step - loss: 2.6494 - accuracy: 0.3309 - val_loss: 3.0660 - val_accuracy: 0.2660\n",
            "Epoch 39/300\n",
            "160/160 [==============================] - ETA: 0s - loss: 2.6194 - accuracy: 0.3288\n",
            "Epoch 00039: val_loss improved from 3.06603 to 3.06491, saving model to model/Cifar_test-cnn.hdf5\n",
            "160/160 [==============================] - 2s 13ms/step - loss: 2.6194 - accuracy: 0.3288 - val_loss: 3.0649 - val_accuracy: 0.2605\n",
            "Epoch 40/300\n",
            "158/160 [============================>.] - ETA: 0s - loss: 2.6033 - accuracy: 0.3406\n",
            "Epoch 00040: val_loss improved from 3.06491 to 3.03397, saving model to model/Cifar_test-cnn.hdf5\n",
            "160/160 [==============================] - 2s 13ms/step - loss: 2.5986 - accuracy: 0.3411 - val_loss: 3.0340 - val_accuracy: 0.2745\n",
            "Epoch 41/300\n",
            "156/160 [============================>.] - ETA: 0s - loss: 2.5551 - accuracy: 0.3485\n",
            "Epoch 00041: val_loss improved from 3.03397 to 3.02891, saving model to model/Cifar_test-cnn.hdf5\n",
            "160/160 [==============================] - 2s 13ms/step - loss: 2.5527 - accuracy: 0.3495 - val_loss: 3.0289 - val_accuracy: 0.2735\n",
            "Epoch 42/300\n",
            "156/160 [============================>.] - ETA: 0s - loss: 2.5267 - accuracy: 0.3537\n",
            "Epoch 00042: val_loss did not improve from 3.02891\n",
            "160/160 [==============================] - 2s 12ms/step - loss: 2.5279 - accuracy: 0.3540 - val_loss: 3.0318 - val_accuracy: 0.2715\n",
            "Epoch 43/300\n",
            "156/160 [============================>.] - ETA: 0s - loss: 2.4890 - accuracy: 0.3603\n",
            "Epoch 00043: val_loss did not improve from 3.02891\n",
            "160/160 [==============================] - 2s 12ms/step - loss: 2.4865 - accuracy: 0.3606 - val_loss: 3.0344 - val_accuracy: 0.2725\n",
            "Epoch 44/300\n",
            "160/160 [==============================] - ETA: 0s - loss: 2.4647 - accuracy: 0.3584\n",
            "Epoch 00044: val_loss improved from 3.02891 to 3.01919, saving model to model/Cifar_test-cnn.hdf5\n",
            "160/160 [==============================] - 2s 13ms/step - loss: 2.4647 - accuracy: 0.3584 - val_loss: 3.0192 - val_accuracy: 0.2735\n",
            "Epoch 45/300\n",
            "156/160 [============================>.] - ETA: 0s - loss: 2.4129 - accuracy: 0.3749\n",
            "Epoch 00045: val_loss did not improve from 3.01919\n",
            "160/160 [==============================] - 2s 12ms/step - loss: 2.4136 - accuracy: 0.3755 - val_loss: 3.0223 - val_accuracy: 0.2775\n",
            "Epoch 46/300\n",
            "156/160 [============================>.] - ETA: 0s - loss: 2.4111 - accuracy: 0.3773\n",
            "Epoch 00046: val_loss improved from 3.01919 to 3.00600, saving model to model/Cifar_test-cnn.hdf5\n",
            "160/160 [==============================] - 2s 13ms/step - loss: 2.4112 - accuracy: 0.3766 - val_loss: 3.0060 - val_accuracy: 0.2790\n",
            "Epoch 47/300\n",
            "156/160 [============================>.] - ETA: 0s - loss: 2.3743 - accuracy: 0.3891\n",
            "Epoch 00047: val_loss improved from 3.00600 to 2.99474, saving model to model/Cifar_test-cnn.hdf5\n",
            "160/160 [==============================] - 2s 13ms/step - loss: 2.3805 - accuracy: 0.3880 - val_loss: 2.9947 - val_accuracy: 0.2855\n",
            "Epoch 48/300\n",
            "156/160 [============================>.] - ETA: 0s - loss: 2.3316 - accuracy: 0.3881\n",
            "Epoch 00048: val_loss improved from 2.99474 to 2.98303, saving model to model/Cifar_test-cnn.hdf5\n",
            "160/160 [==============================] - 2s 13ms/step - loss: 2.3371 - accuracy: 0.3876 - val_loss: 2.9830 - val_accuracy: 0.2855\n",
            "Epoch 49/300\n",
            "159/160 [============================>.] - ETA: 0s - loss: 2.3167 - accuracy: 0.3950\n",
            "Epoch 00049: val_loss improved from 2.98303 to 2.98051, saving model to model/Cifar_test-cnn.hdf5\n",
            "160/160 [==============================] - 2s 13ms/step - loss: 2.3156 - accuracy: 0.3955 - val_loss: 2.9805 - val_accuracy: 0.2870\n",
            "Epoch 50/300\n",
            "159/160 [============================>.] - ETA: 0s - loss: 2.2902 - accuracy: 0.3958\n",
            "Epoch 00050: val_loss did not improve from 2.98051\n",
            "160/160 [==============================] - 2s 13ms/step - loss: 2.2923 - accuracy: 0.3957 - val_loss: 2.9815 - val_accuracy: 0.2825\n",
            "Epoch 51/300\n",
            "160/160 [==============================] - ETA: 0s - loss: 2.2468 - accuracy: 0.4126\n",
            "Epoch 00051: val_loss did not improve from 2.98051\n",
            "160/160 [==============================] - 2s 12ms/step - loss: 2.2468 - accuracy: 0.4126 - val_loss: 2.9952 - val_accuracy: 0.2805\n",
            "Epoch 52/300\n",
            "160/160 [==============================] - ETA: 0s - loss: 2.2142 - accuracy: 0.4141\n",
            "Epoch 00052: val_loss improved from 2.98051 to 2.97945, saving model to model/Cifar_test-cnn.hdf5\n",
            "160/160 [==============================] - 2s 13ms/step - loss: 2.2142 - accuracy: 0.4141 - val_loss: 2.9795 - val_accuracy: 0.2845\n",
            "Epoch 53/300\n",
            "159/160 [============================>.] - ETA: 0s - loss: 2.1991 - accuracy: 0.4253\n",
            "Epoch 00053: val_loss did not improve from 2.97945\n",
            "160/160 [==============================] - 2s 13ms/step - loss: 2.1985 - accuracy: 0.4252 - val_loss: 2.9904 - val_accuracy: 0.2870\n",
            "Epoch 54/300\n",
            "160/160 [==============================] - ETA: 0s - loss: 2.1597 - accuracy: 0.4359\n",
            "Epoch 00054: val_loss improved from 2.97945 to 2.96600, saving model to model/Cifar_test-cnn.hdf5\n",
            "160/160 [==============================] - 2s 13ms/step - loss: 2.1597 - accuracy: 0.4359 - val_loss: 2.9660 - val_accuracy: 0.2980\n",
            "Epoch 55/300\n",
            "159/160 [============================>.] - ETA: 0s - loss: 2.1485 - accuracy: 0.4263\n",
            "Epoch 00055: val_loss did not improve from 2.96600\n",
            "160/160 [==============================] - 2s 12ms/step - loss: 2.1497 - accuracy: 0.4260 - val_loss: 2.9898 - val_accuracy: 0.2905\n",
            "Epoch 56/300\n",
            "159/160 [============================>.] - ETA: 0s - loss: 2.1139 - accuracy: 0.4381\n",
            "Epoch 00056: val_loss did not improve from 2.96600\n",
            "160/160 [==============================] - 2s 13ms/step - loss: 2.1140 - accuracy: 0.4379 - val_loss: 2.9878 - val_accuracy: 0.2860\n",
            "Epoch 57/300\n",
            "156/160 [============================>.] - ETA: 0s - loss: 2.1024 - accuracy: 0.4422\n",
            "Epoch 00057: val_loss did not improve from 2.96600\n",
            "160/160 [==============================] - 2s 12ms/step - loss: 2.1009 - accuracy: 0.4428 - val_loss: 2.9762 - val_accuracy: 0.2910\n",
            "Epoch 58/300\n",
            "160/160 [==============================] - ETA: 0s - loss: 2.0581 - accuracy: 0.4509\n",
            "Epoch 00058: val_loss did not improve from 2.96600\n",
            "160/160 [==============================] - 2s 12ms/step - loss: 2.0581 - accuracy: 0.4509 - val_loss: 2.9904 - val_accuracy: 0.2880\n",
            "Epoch 59/300\n",
            "160/160 [==============================] - ETA: 0s - loss: 2.0283 - accuracy: 0.4515\n",
            "Epoch 00059: val_loss did not improve from 2.96600\n",
            "160/160 [==============================] - 2s 12ms/step - loss: 2.0283 - accuracy: 0.4515 - val_loss: 2.9748 - val_accuracy: 0.2955\n",
            "Epoch 60/300\n",
            "156/160 [============================>.] - ETA: 0s - loss: 2.0157 - accuracy: 0.4600\n",
            "Epoch 00060: val_loss did not improve from 2.96600\n",
            "160/160 [==============================] - 2s 12ms/step - loss: 2.0171 - accuracy: 0.4593 - val_loss: 2.9781 - val_accuracy: 0.2920\n",
            "Epoch 61/300\n",
            "159/160 [============================>.] - ETA: 0s - loss: 1.9749 - accuracy: 0.4711\n",
            "Epoch 00061: val_loss did not improve from 2.96600\n",
            "160/160 [==============================] - 2s 13ms/step - loss: 1.9731 - accuracy: 0.4717 - val_loss: 2.9870 - val_accuracy: 0.2970\n",
            "Epoch 62/300\n",
            "156/160 [============================>.] - ETA: 0s - loss: 1.9548 - accuracy: 0.4773\n",
            "Epoch 00062: val_loss did not improve from 2.96600\n",
            "160/160 [==============================] - 2s 12ms/step - loss: 1.9569 - accuracy: 0.4766 - val_loss: 2.9943 - val_accuracy: 0.2895\n",
            "Epoch 63/300\n",
            "156/160 [============================>.] - ETA: 0s - loss: 1.9285 - accuracy: 0.4819\n",
            "Epoch 00063: val_loss did not improve from 2.96600\n",
            "160/160 [==============================] - 2s 12ms/step - loss: 1.9301 - accuracy: 0.4809 - val_loss: 2.9842 - val_accuracy: 0.2880\n",
            "Epoch 64/300\n",
            "156/160 [============================>.] - ETA: 0s - loss: 1.8885 - accuracy: 0.4953\n",
            "Epoch 00064: val_loss did not improve from 2.96600\n",
            "160/160 [==============================] - 2s 12ms/step - loss: 1.8960 - accuracy: 0.4935 - val_loss: 2.9916 - val_accuracy: 0.2920\n",
            "Epoch 65/300\n",
            "160/160 [==============================] - ETA: 0s - loss: 1.8736 - accuracy: 0.4913\n",
            "Epoch 00065: val_loss did not improve from 2.96600\n",
            "160/160 [==============================] - 2s 12ms/step - loss: 1.8736 - accuracy: 0.4913 - val_loss: 2.9811 - val_accuracy: 0.3020\n",
            "Epoch 66/300\n",
            "156/160 [============================>.] - ETA: 0s - loss: 1.8519 - accuracy: 0.5012\n",
            "Epoch 00066: val_loss did not improve from 2.96600\n",
            "160/160 [==============================] - 2s 12ms/step - loss: 1.8538 - accuracy: 0.5006 - val_loss: 2.9871 - val_accuracy: 0.2945\n",
            "Epoch 67/300\n",
            "156/160 [============================>.] - ETA: 0s - loss: 1.8184 - accuracy: 0.5041\n",
            "Epoch 00067: val_loss did not improve from 2.96600\n",
            "160/160 [==============================] - 2s 12ms/step - loss: 1.8186 - accuracy: 0.5033 - val_loss: 3.0289 - val_accuracy: 0.2935\n",
            "Epoch 68/300\n",
            "156/160 [============================>.] - ETA: 0s - loss: 1.7873 - accuracy: 0.5162\n",
            "Epoch 00068: val_loss did not improve from 2.96600\n",
            "160/160 [==============================] - 2s 12ms/step - loss: 1.7868 - accuracy: 0.5159 - val_loss: 3.0042 - val_accuracy: 0.2990\n",
            "Epoch 69/300\n",
            "156/160 [============================>.] - ETA: 0s - loss: 1.7783 - accuracy: 0.5108\n",
            "Epoch 00069: val_loss did not improve from 2.96600\n",
            "160/160 [==============================] - 2s 12ms/step - loss: 1.7830 - accuracy: 0.5105 - val_loss: 3.0027 - val_accuracy: 0.2925\n",
            "Epoch 70/300\n",
            "160/160 [==============================] - ETA: 0s - loss: 1.7390 - accuracy: 0.5203\n",
            "Epoch 00070: val_loss did not improve from 2.96600\n",
            "160/160 [==============================] - 2s 12ms/step - loss: 1.7390 - accuracy: 0.5203 - val_loss: 3.0131 - val_accuracy: 0.2970\n",
            "Epoch 71/300\n",
            "158/160 [============================>.] - ETA: 0s - loss: 1.7357 - accuracy: 0.5148\n",
            "Epoch 00071: val_loss did not improve from 2.96600\n",
            "160/160 [==============================] - 2s 12ms/step - loss: 1.7321 - accuracy: 0.5156 - val_loss: 3.0052 - val_accuracy: 0.2970\n",
            "Epoch 72/300\n",
            "156/160 [============================>.] - ETA: 0s - loss: 1.7158 - accuracy: 0.5272\n",
            "Epoch 00072: val_loss did not improve from 2.96600\n",
            "160/160 [==============================] - 2s 12ms/step - loss: 1.7115 - accuracy: 0.5279 - val_loss: 3.0030 - val_accuracy: 0.2945\n",
            "Epoch 73/300\n",
            "156/160 [============================>.] - ETA: 0s - loss: 1.6809 - accuracy: 0.5319\n",
            "Epoch 00073: val_loss did not improve from 2.96600\n",
            "160/160 [==============================] - 2s 12ms/step - loss: 1.6831 - accuracy: 0.5320 - val_loss: 3.0195 - val_accuracy: 0.3020\n",
            "Epoch 74/300\n",
            "160/160 [==============================] - ETA: 0s - loss: 1.6644 - accuracy: 0.5330\n",
            "Epoch 00074: val_loss did not improve from 2.96600\n",
            "160/160 [==============================] - 2s 12ms/step - loss: 1.6644 - accuracy: 0.5330 - val_loss: 3.0491 - val_accuracy: 0.2900\n"
          ],
          "name": "stdout"
        }
      ]
    },
    {
      "cell_type": "code",
      "metadata": {
        "id": "BivJ_WyGrrAz",
        "colab_type": "code",
        "colab": {
          "base_uri": "https://localhost:8080/",
          "height": 71
        },
        "outputId": "624900af-9a9b-4395-b800-92e5b5d6607e"
      },
      "source": [
        "# 테스트 정확도 출력 \n",
        "print(\"\\n Test Accuracy: %.4f\" % (model.evaluate(X_test, Y_test)[1]))"
      ],
      "execution_count": null,
      "outputs": [
        {
          "output_type": "stream",
          "text": [
            "63/63 [==============================] - 0s 6ms/step - loss: 3.0491 - accuracy: 0.2900\n",
            "\n",
            " Test Accuracy: 0.2900\n"
          ],
          "name": "stdout"
        }
      ]
    },
    {
      "cell_type": "code",
      "metadata": {
        "id": "vegLtyQCwMfi",
        "colab_type": "code",
        "colab": {}
      },
      "source": [
        "# 테스트셋\n",
        "y_vloss = history.history['val_loss']\n",
        "y_vacc = history.history['val_accuracy']\n",
        "# 학습셋\n",
        "y_loss = history.history['loss']\n",
        "y_acc = history.history['accuracy']"
      ],
      "execution_count": null,
      "outputs": []
    },
    {
      "cell_type": "code",
      "metadata": {
        "id": "U1ktLxm_wMo-",
        "colab_type": "code",
        "colab": {
          "base_uri": "https://localhost:8080/",
          "height": 497
        },
        "outputId": "20e4dc08-4716-49d3-e25a-45a629cd2792"
      },
      "source": [
        "import numpy as np\n",
        "# 그래프로 표현\n",
        "x_len = np.arange(1, len(y_loss)+1)\n",
        "fig, ax0 = plt.subplots(figsize=(10,8))\n",
        "ax1 = ax0.twinx()\n",
        "ax0.plot(x_len, y_loss, c=\"blue\", label='Trainset_loss')\n",
        "ax0.plot(x_len, y_vloss, c=\"red\", label='Testset_loss')\n",
        "ax0.set_ylabel('loss')\n",
        "ax1.plot(x_len, y_acc, c=\"darkgreen\", label='Trainset_acc')\n",
        "ax1.plot(x_len, y_vacc, c=\"magenta\", label='Testset_acc')\n",
        "ax1.set_ylabel('accuracy')\n",
        "ax0.set_xlabel('epoch')\n",
        "ax0.legend(loc='upper center')\n",
        "ax1.legend(loc='lower center')\n",
        "plt.show()"
      ],
      "execution_count": null,
      "outputs": [
        {
          "output_type": "display_data",
          "data": {
            "image/png": "[encoded data removed]",
            "text/plain": [
              "<Figure size 720x576 with 2 Axes>"
            ]
          },
          "metadata": {
            "tags": [],
            "needs_background": "light"
          }
        }
      ]
    },
    {
      "cell_type": "code",
      "metadata": {
        "id": "8PPF__KM6wq3",
        "colab_type": "code",
        "colab": {}
      },
      "source": [
        ""
      ],
      "execution_count": null,
      "outputs": []
    }
  ]
}