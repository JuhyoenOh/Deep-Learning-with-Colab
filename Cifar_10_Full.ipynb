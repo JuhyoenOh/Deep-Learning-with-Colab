{
  "nbformat": 4,
  "nbformat_minor": 0,
  "metadata": {
    "colab": {
      "name": "Cifar-10_Full.ipynb",
      "provenance": [],
      "authorship_tag": "ABX9TyOfXvGtQDkRNa4tRxvLITyf",
      "include_colab_link": true
    },
    "kernelspec": {
      "name": "python3",
      "display_name": "Python 3"
    },
    "accelerator": "GPU"
  },
  "cells": [
    {
      "cell_type": "markdown",
      "metadata": {
        "id": "view-in-github",
        "colab_type": "text"
      },
      "source": [
        "<a href=\"https://colab.research.google.com/github/JuhyoenOh/Deep-Learning-with-Colab/blob/master/Cifar_10_Full.ipynb\" target=\"_parent\"><img src=\"https://colab.research.google.com/assets/colab-badge.svg\" alt=\"Open In Colab\"/></a>"
      ]
    },
    {
      "cell_type": "code",
      "metadata": {
        "id": "r7c9cM7A8GBM",
        "colab_type": "code",
        "colab": {}
      },
      "source": [
        "import tensorflow as tf\n",
        "from tensorflow.keras.datasets import cifar10\n",
        "from tensorflow.keras.models import Sequential\n",
        "from tensorflow.keras.layers import Conv2D, MaxPooling2D, Flatten, Dense, Dropout\n",
        "from tensorflow.keras.layers import Activation, BatchNormalization\n",
        "from tensorflow.keras.regularizers import l2\n",
        "import numpy as np"
      ],
      "execution_count": 1,
      "outputs": []
    },
    {
      "cell_type": "code",
      "metadata": {
        "id": "Kp1vmLpV99gX",
        "colab_type": "code",
        "colab": {
          "base_uri": "https://localhost:8080/",
          "height": 35
        },
        "outputId": "3e28bdec-44eb-46f5-f668-be2215b1d1ec"
      },
      "source": [
        "%tensorflow_version 2.x\n",
        "import tensorflow as tf\n",
        "device_name = tf.test.gpu_device_name()\n",
        "if device_name != '/device:GPU:0':\n",
        "    raise SystemError('GPU device not found')\n",
        "print('Found GPU at: {}'.format(device_name))"
      ],
      "execution_count": 2,
      "outputs": [
        {
          "output_type": "stream",
          "text": [
            "Found GPU at: /device:GPU:0\n"
          ],
          "name": "stdout"
        }
      ]
    },
    {
      "cell_type": "code",
      "metadata": {
        "id": "FnQb-jbx8hEr",
        "colab_type": "code",
        "colab": {
          "base_uri": "https://localhost:8080/",
          "height": 125
        },
        "outputId": "e888038c-360d-4261-cac7-d4509bc2a2c6"
      },
      "source": [
        "(X_train, y_train0), (X_test, y_test0) = cifar10.load_data()\n",
        "print(X_train.shape, X_train.dtype)\n",
        "print(y_train0.shape, y_train0.dtype)\n",
        "print(X_test.shape, X_test.dtype)\n",
        "print(y_test0.shape, y_test0.dtype)"
      ],
      "execution_count": 3,
      "outputs": [
        {
          "output_type": "stream",
          "text": [
            "Downloading data from https://www.cs.toronto.edu/~kriz/cifar-10-python.tar.gz\n",
            "170500096/170498071 [==============================] - 6s 0us/step\n",
            "(50000, 32, 32, 3) uint8\n",
            "(50000, 1) uint8\n",
            "(10000, 32, 32, 3) uint8\n",
            "(10000, 1) uint8\n"
          ],
          "name": "stdout"
        }
      ]
    },
    {
      "cell_type": "code",
      "metadata": {
        "id": "OJmB0Wp18iTP",
        "colab_type": "code",
        "colab": {
          "base_uri": "https://localhost:8080/",
          "height": 35
        },
        "outputId": "dc519a21-fb47-412b-ada5-ded657ffec5e"
      },
      "source": [
        "X_train = X_train.astype('float32')/255.0\n",
        "X_test = X_test.astype('float32')/255.0\n",
        "\n",
        "print(X_train.shape, X_train.dtype)"
      ],
      "execution_count": 4,
      "outputs": [
        {
          "output_type": "stream",
          "text": [
            "(50000, 32, 32, 3) float32\n"
          ],
          "name": "stdout"
        }
      ]
    },
    {
      "cell_type": "code",
      "metadata": {
        "id": "q7RA4dwO8jXH",
        "colab_type": "code",
        "colab": {
          "base_uri": "https://localhost:8080/",
          "height": 89
        },
        "outputId": "6bd0a3ed-15e3-47e8-b15b-c8492a507324"
      },
      "source": [
        "Y_train = tf.keras.utils.to_categorical(y_train0, 10)\n",
        "Y_test = tf.keras.utils.to_categorical(y_test0, 10)\n",
        "Y_train[:4]"
      ],
      "execution_count": 5,
      "outputs": [
        {
          "output_type": "execute_result",
          "data": {
            "text/plain": [
              "array([[0., 0., 0., 0., 0., 0., 1., 0., 0., 0.],\n",
              "       [0., 0., 0., 0., 0., 0., 0., 0., 0., 1.],\n",
              "       [0., 0., 0., 0., 0., 0., 0., 0., 0., 1.],\n",
              "       [0., 0., 0., 0., 1., 0., 0., 0., 0., 0.]], dtype=float32)"
            ]
          },
          "metadata": {
            "tags": []
          },
          "execution_count": 5
        }
      ]
    },
    {
      "cell_type": "code",
      "metadata": {
        "id": "H1xZX35o8kWH",
        "colab_type": "code",
        "colab": {}
      },
      "source": [
        "np.random.seed(0)\n",
        "weight_decay = 1e-4"
      ],
      "execution_count": 6,
      "outputs": []
    },
    {
      "cell_type": "code",
      "metadata": {
        "id": "ancTaig_8lVn",
        "colab_type": "code",
        "colab": {
          "base_uri": "https://localhost:8080/",
          "height": 1000
        },
        "outputId": "9bb8444b-b569-489c-c877-231ccd284e6d"
      },
      "source": [
        "model = Sequential()\n",
        "\n",
        "model.add(Conv2D(32, (3,3), padding='same', kernel_regularizer=l2(weight_decay), \n",
        "                 input_shape=X_train.shape[1:]))\n",
        "model.add(Activation('elu'))\n",
        "model.add(BatchNormalization())\n",
        "model.add(Conv2D(32, (3,3), padding='same', kernel_regularizer=l2(weight_decay)))\n",
        "model.add(Activation('elu'))\n",
        "model.add(BatchNormalization())\n",
        "model.add(MaxPooling2D(pool_size=(2,2)))\n",
        "model.add(Dropout(0.2))\n",
        " \n",
        "model.add(Conv2D(64, (3,3), padding='same', kernel_regularizer=l2(weight_decay)))\n",
        "model.add(Activation('elu'))\n",
        "model.add(BatchNormalization())\n",
        "model.add(Conv2D(64, (3,3), padding='same', kernel_regularizer=l2(weight_decay)))\n",
        "model.add(Activation('elu'))\n",
        "model.add(BatchNormalization())\n",
        "model.add(MaxPooling2D(pool_size=(2,2)))\n",
        "model.add(Dropout(0.3))\n",
        " \n",
        "model.add(Conv2D(128, (3,3), padding='same', kernel_regularizer=l2(weight_decay)))\n",
        "model.add(Activation('elu'))\n",
        "model.add(BatchNormalization())\n",
        "model.add(Conv2D(128, (3,3), padding='same', kernel_regularizer=l2(weight_decay)))\n",
        "model.add(Activation('elu'))\n",
        "model.add(BatchNormalization())\n",
        "model.add(MaxPooling2D(pool_size=(2,2)))\n",
        "model.add(Dropout(0.4))\n",
        " \n",
        "model.add(Flatten())\n",
        "model.add(Dense(10, activation='softmax'))\n",
        "\n",
        "model.summary()"
      ],
      "execution_count": 7,
      "outputs": [
        {
          "output_type": "stream",
          "text": [
            "Model: \"sequential\"\n",
            "_________________________________________________________________\n",
            "Layer (type)                 Output Shape              Param #   \n",
            "=================================================================\n",
            "conv2d (Conv2D)              (None, 32, 32, 32)        896       \n",
            "_________________________________________________________________\n",
            "activation (Activation)      (None, 32, 32, 32)        0         \n",
            "_________________________________________________________________\n",
            "batch_normalization (BatchNo (None, 32, 32, 32)        128       \n",
            "_________________________________________________________________\n",
            "conv2d_1 (Conv2D)            (None, 32, 32, 32)        9248      \n",
            "_________________________________________________________________\n",
            "activation_1 (Activation)    (None, 32, 32, 32)        0         \n",
            "_________________________________________________________________\n",
            "batch_normalization_1 (Batch (None, 32, 32, 32)        128       \n",
            "_________________________________________________________________\n",
            "max_pooling2d (MaxPooling2D) (None, 16, 16, 32)        0         \n",
            "_________________________________________________________________\n",
            "dropout (Dropout)            (None, 16, 16, 32)        0         \n",
            "_________________________________________________________________\n",
            "conv2d_2 (Conv2D)            (None, 16, 16, 64)        18496     \n",
            "_________________________________________________________________\n",
            "activation_2 (Activation)    (None, 16, 16, 64)        0         \n",
            "_________________________________________________________________\n",
            "batch_normalization_2 (Batch (None, 16, 16, 64)        256       \n",
            "_________________________________________________________________\n",
            "conv2d_3 (Conv2D)            (None, 16, 16, 64)        36928     \n",
            "_________________________________________________________________\n",
            "activation_3 (Activation)    (None, 16, 16, 64)        0         \n",
            "_________________________________________________________________\n",
            "batch_normalization_3 (Batch (None, 16, 16, 64)        256       \n",
            "_________________________________________________________________\n",
            "max_pooling2d_1 (MaxPooling2 (None, 8, 8, 64)          0         \n",
            "_________________________________________________________________\n",
            "dropout_1 (Dropout)          (None, 8, 8, 64)          0         \n",
            "_________________________________________________________________\n",
            "conv2d_4 (Conv2D)            (None, 8, 8, 128)         73856     \n",
            "_________________________________________________________________\n",
            "activation_4 (Activation)    (None, 8, 8, 128)         0         \n",
            "_________________________________________________________________\n",
            "batch_normalization_4 (Batch (None, 8, 8, 128)         512       \n",
            "_________________________________________________________________\n",
            "conv2d_5 (Conv2D)            (None, 8, 8, 128)         147584    \n",
            "_________________________________________________________________\n",
            "activation_5 (Activation)    (None, 8, 8, 128)         0         \n",
            "_________________________________________________________________\n",
            "batch_normalization_5 (Batch (None, 8, 8, 128)         512       \n",
            "_________________________________________________________________\n",
            "max_pooling2d_2 (MaxPooling2 (None, 4, 4, 128)         0         \n",
            "_________________________________________________________________\n",
            "dropout_2 (Dropout)          (None, 4, 4, 128)         0         \n",
            "_________________________________________________________________\n",
            "flatten (Flatten)            (None, 2048)              0         \n",
            "_________________________________________________________________\n",
            "dense (Dense)                (None, 10)                20490     \n",
            "=================================================================\n",
            "Total params: 309,290\n",
            "Trainable params: 308,394\n",
            "Non-trainable params: 896\n",
            "_________________________________________________________________\n"
          ],
          "name": "stdout"
        }
      ]
    },
    {
      "cell_type": "code",
      "metadata": {
        "id": "1Rd83__o8nQv",
        "colab_type": "code",
        "colab": {}
      },
      "source": [
        "from tensorflow.keras.optimizers import RMSprop\n",
        "\n",
        "model.compile(loss='categorical_crossentropy', \n",
        "              optimizer=RMSprop(lr=0.001, decay=weight_decay), \n",
        "              metrics=['accuracy'])"
      ],
      "execution_count": 8,
      "outputs": []
    },
    {
      "cell_type": "code",
      "metadata": {
        "id": "76GThnuJ8ovn",
        "colab_type": "code",
        "colab": {}
      },
      "source": [
        "def lr_schedule(epoch):\n",
        "    lrate = 0.001\n",
        "    if epoch > 30:\n",
        "        lrate = 0.0005\n",
        "    if epoch > 40:\n",
        "        lrate = 0.0003\n",
        "    return lrate"
      ],
      "execution_count": 9,
      "outputs": []
    },
    {
      "cell_type": "code",
      "metadata": {
        "id": "vK7hNlth8p2_",
        "colab_type": "code",
        "colab": {}
      },
      "source": [
        "#data augmentation\n",
        "from tensorflow.keras.preprocessing.image import ImageDataGenerator\n",
        "\n",
        "datagen = ImageDataGenerator(\n",
        "    rotation_range=15,\n",
        "    width_shift_range=0.1,\n",
        "    height_shift_range=0.1,\n",
        "    horizontal_flip=True,\n",
        ")\n",
        "datagen.fit(X_train)"
      ],
      "execution_count": 10,
      "outputs": []
    },
    {
      "cell_type": "code",
      "metadata": {
        "id": "215fyKQd8r4f",
        "colab_type": "code",
        "colab": {
          "base_uri": "https://localhost:8080/",
          "height": 1000
        },
        "outputId": "333abfb4-da76-4d90-efbc-8c1459de6950"
      },
      "source": [
        "from tensorflow.keras.callbacks import LearningRateScheduler\n",
        "\n",
        "history = model.fit_generator(datagen.flow(X_train, Y_train, batch_size=64),\n",
        "                    steps_per_epoch=X_train.shape[0] // 64, epochs=50,\n",
        "                    verbose=1, validation_data=(X_test, Y_test),\n",
        "                    callbacks=[LearningRateScheduler(lr_schedule)])"
      ],
      "execution_count": 12,
      "outputs": [
        {
          "output_type": "stream",
          "text": [
            "Epoch 1/50\n",
            "781/781 [==============================] - 42s 54ms/step - loss: 1.8764 - accuracy: 0.4195 - val_loss: 1.2511 - val_accuracy: 0.5840 - lr: 0.0010\n",
            "Epoch 2/50\n",
            "781/781 [==============================] - 43s 55ms/step - loss: 1.2982 - accuracy: 0.5770 - val_loss: 1.6943 - val_accuracy: 0.5454 - lr: 0.0010\n",
            "Epoch 3/50\n",
            "781/781 [==============================] - 44s 56ms/step - loss: 1.0856 - accuracy: 0.6487 - val_loss: 0.8945 - val_accuracy: 0.7153 - lr: 0.0010\n",
            "Epoch 4/50\n",
            "781/781 [==============================] - 44s 56ms/step - loss: 0.9781 - accuracy: 0.6835 - val_loss: 1.0171 - val_accuracy: 0.7033 - lr: 0.0010\n",
            "Epoch 5/50\n",
            "781/781 [==============================] - 43s 56ms/step - loss: 0.9034 - accuracy: 0.7111 - val_loss: 0.9056 - val_accuracy: 0.7310 - lr: 0.0010\n",
            "Epoch 6/50\n",
            "781/781 [==============================] - 43s 55ms/step - loss: 0.8487 - accuracy: 0.7333 - val_loss: 0.7351 - val_accuracy: 0.7726 - lr: 0.0010\n",
            "Epoch 7/50\n",
            "781/781 [==============================] - 43s 55ms/step - loss: 0.8092 - accuracy: 0.7488 - val_loss: 0.9221 - val_accuracy: 0.7173 - lr: 0.0010\n",
            "Epoch 8/50\n",
            "781/781 [==============================] - 43s 55ms/step - loss: 0.7792 - accuracy: 0.7607 - val_loss: 0.7150 - val_accuracy: 0.7837 - lr: 0.0010\n",
            "Epoch 9/50\n",
            "781/781 [==============================] - 43s 55ms/step - loss: 0.7477 - accuracy: 0.7716 - val_loss: 0.7316 - val_accuracy: 0.7835 - lr: 0.0010\n",
            "Epoch 10/50\n",
            "781/781 [==============================] - 43s 55ms/step - loss: 0.7278 - accuracy: 0.7778 - val_loss: 0.7250 - val_accuracy: 0.7866 - lr: 0.0010\n",
            "Epoch 11/50\n",
            "781/781 [==============================] - 43s 55ms/step - loss: 0.7030 - accuracy: 0.7875 - val_loss: 0.6690 - val_accuracy: 0.8075 - lr: 0.0010\n",
            "Epoch 12/50\n",
            "781/781 [==============================] - 43s 55ms/step - loss: 0.6876 - accuracy: 0.7941 - val_loss: 0.6466 - val_accuracy: 0.8098 - lr: 0.0010\n",
            "Epoch 13/50\n",
            "781/781 [==============================] - 43s 55ms/step - loss: 0.6750 - accuracy: 0.7960 - val_loss: 0.6370 - val_accuracy: 0.8124 - lr: 0.0010\n",
            "Epoch 14/50\n",
            "781/781 [==============================] - 43s 55ms/step - loss: 0.6576 - accuracy: 0.8038 - val_loss: 0.6203 - val_accuracy: 0.8207 - lr: 0.0010\n",
            "Epoch 15/50\n",
            "781/781 [==============================] - 43s 55ms/step - loss: 0.6483 - accuracy: 0.8090 - val_loss: 0.6100 - val_accuracy: 0.8253 - lr: 0.0010\n",
            "Epoch 16/50\n",
            "781/781 [==============================] - 44s 56ms/step - loss: 0.6345 - accuracy: 0.8112 - val_loss: 0.6439 - val_accuracy: 0.8150 - lr: 0.0010\n",
            "Epoch 17/50\n",
            "781/781 [==============================] - 44s 56ms/step - loss: 0.6250 - accuracy: 0.8159 - val_loss: 0.5875 - val_accuracy: 0.8296 - lr: 0.0010\n",
            "Epoch 18/50\n",
            "781/781 [==============================] - 44s 56ms/step - loss: 0.6130 - accuracy: 0.8193 - val_loss: 0.7475 - val_accuracy: 0.7909 - lr: 0.0010\n",
            "Epoch 19/50\n",
            "781/781 [==============================] - 43s 55ms/step - loss: 0.6022 - accuracy: 0.8235 - val_loss: 0.6403 - val_accuracy: 0.8151 - lr: 0.0010\n",
            "Epoch 20/50\n",
            "781/781 [==============================] - 43s 55ms/step - loss: 0.5992 - accuracy: 0.8239 - val_loss: 0.5771 - val_accuracy: 0.8382 - lr: 0.0010\n",
            "Epoch 21/50\n",
            "781/781 [==============================] - 43s 55ms/step - loss: 0.5854 - accuracy: 0.8297 - val_loss: 0.5929 - val_accuracy: 0.8362 - lr: 0.0010\n",
            "Epoch 22/50\n",
            "781/781 [==============================] - 43s 56ms/step - loss: 0.5840 - accuracy: 0.8301 - val_loss: 0.5904 - val_accuracy: 0.8365 - lr: 0.0010\n",
            "Epoch 23/50\n",
            "781/781 [==============================] - 43s 55ms/step - loss: 0.5691 - accuracy: 0.8330 - val_loss: 0.5506 - val_accuracy: 0.8444 - lr: 0.0010\n",
            "Epoch 24/50\n",
            "781/781 [==============================] - 44s 56ms/step - loss: 0.5651 - accuracy: 0.8356 - val_loss: 0.5781 - val_accuracy: 0.8387 - lr: 0.0010\n",
            "Epoch 25/50\n",
            "781/781 [==============================] - 44s 56ms/step - loss: 0.5606 - accuracy: 0.8376 - val_loss: 0.5855 - val_accuracy: 0.8336 - lr: 0.0010\n",
            "Epoch 26/50\n",
            "781/781 [==============================] - 43s 55ms/step - loss: 0.5521 - accuracy: 0.8397 - val_loss: 0.5688 - val_accuracy: 0.8407 - lr: 0.0010\n",
            "Epoch 27/50\n",
            "781/781 [==============================] - 43s 55ms/step - loss: 0.5450 - accuracy: 0.8430 - val_loss: 0.6023 - val_accuracy: 0.8359 - lr: 0.0010\n",
            "Epoch 28/50\n",
            "781/781 [==============================] - 43s 54ms/step - loss: 0.5454 - accuracy: 0.8424 - val_loss: 0.5899 - val_accuracy: 0.8339 - lr: 0.0010\n",
            "Epoch 29/50\n",
            "781/781 [==============================] - 43s 55ms/step - loss: 0.5398 - accuracy: 0.8455 - val_loss: 0.5318 - val_accuracy: 0.8505 - lr: 0.0010\n",
            "Epoch 30/50\n",
            "781/781 [==============================] - 43s 55ms/step - loss: 0.5293 - accuracy: 0.8462 - val_loss: 0.5621 - val_accuracy: 0.8423 - lr: 0.0010\n",
            "Epoch 31/50\n",
            "781/781 [==============================] - 43s 55ms/step - loss: 0.5248 - accuracy: 0.8490 - val_loss: 0.5900 - val_accuracy: 0.8363 - lr: 0.0010\n",
            "Epoch 32/50\n",
            "781/781 [==============================] - 43s 55ms/step - loss: 0.5048 - accuracy: 0.8553 - val_loss: 0.5246 - val_accuracy: 0.8573 - lr: 5.0000e-04\n",
            "Epoch 33/50\n",
            "781/781 [==============================] - 43s 55ms/step - loss: 0.4939 - accuracy: 0.8594 - val_loss: 0.5104 - val_accuracy: 0.8583 - lr: 5.0000e-04\n",
            "Epoch 34/50\n",
            "781/781 [==============================] - 43s 55ms/step - loss: 0.4892 - accuracy: 0.8590 - val_loss: 0.5204 - val_accuracy: 0.8569 - lr: 5.0000e-04\n",
            "Epoch 35/50\n",
            "781/781 [==============================] - 43s 55ms/step - loss: 0.4856 - accuracy: 0.8627 - val_loss: 0.5100 - val_accuracy: 0.8599 - lr: 5.0000e-04\n",
            "Epoch 36/50\n",
            "781/781 [==============================] - 42s 54ms/step - loss: 0.4843 - accuracy: 0.8604 - val_loss: 0.4994 - val_accuracy: 0.8617 - lr: 5.0000e-04\n",
            "Epoch 37/50\n",
            "781/781 [==============================] - 42s 54ms/step - loss: 0.4833 - accuracy: 0.8607 - val_loss: 0.5249 - val_accuracy: 0.8559 - lr: 5.0000e-04\n",
            "Epoch 38/50\n",
            "781/781 [==============================] - 42s 54ms/step - loss: 0.4763 - accuracy: 0.8636 - val_loss: 0.5066 - val_accuracy: 0.8592 - lr: 5.0000e-04\n",
            "Epoch 39/50\n",
            "781/781 [==============================] - 43s 55ms/step - loss: 0.4767 - accuracy: 0.8624 - val_loss: 0.4964 - val_accuracy: 0.8658 - lr: 5.0000e-04\n",
            "Epoch 40/50\n",
            "781/781 [==============================] - 43s 55ms/step - loss: 0.4728 - accuracy: 0.8653 - val_loss: 0.4895 - val_accuracy: 0.8656 - lr: 5.0000e-04\n",
            "Epoch 41/50\n",
            "781/781 [==============================] - 43s 55ms/step - loss: 0.4647 - accuracy: 0.8692 - val_loss: 0.5044 - val_accuracy: 0.8609 - lr: 5.0000e-04\n",
            "Epoch 42/50\n",
            "781/781 [==============================] - 43s 55ms/step - loss: 0.4581 - accuracy: 0.8694 - val_loss: 0.4788 - val_accuracy: 0.8676 - lr: 3.0000e-04\n",
            "Epoch 43/50\n",
            "781/781 [==============================] - 43s 55ms/step - loss: 0.4578 - accuracy: 0.8703 - val_loss: 0.4815 - val_accuracy: 0.8676 - lr: 3.0000e-04\n",
            "Epoch 44/50\n",
            "781/781 [==============================] - 42s 54ms/step - loss: 0.4532 - accuracy: 0.8716 - val_loss: 0.4930 - val_accuracy: 0.8640 - lr: 3.0000e-04\n",
            "Epoch 45/50\n",
            "781/781 [==============================] - 43s 56ms/step - loss: 0.4516 - accuracy: 0.8726 - val_loss: 0.4873 - val_accuracy: 0.8646 - lr: 3.0000e-04\n",
            "Epoch 46/50\n",
            "781/781 [==============================] - 43s 55ms/step - loss: 0.4508 - accuracy: 0.8711 - val_loss: 0.4855 - val_accuracy: 0.8670 - lr: 3.0000e-04\n",
            "Epoch 47/50\n",
            "781/781 [==============================] - 43s 55ms/step - loss: 0.4454 - accuracy: 0.8753 - val_loss: 0.4798 - val_accuracy: 0.8699 - lr: 3.0000e-04\n",
            "Epoch 48/50\n",
            "781/781 [==============================] - 43s 55ms/step - loss: 0.4474 - accuracy: 0.8723 - val_loss: 0.4881 - val_accuracy: 0.8651 - lr: 3.0000e-04\n",
            "Epoch 49/50\n",
            "781/781 [==============================] - 43s 55ms/step - loss: 0.4443 - accuracy: 0.8720 - val_loss: 0.4775 - val_accuracy: 0.8703 - lr: 3.0000e-04\n",
            "Epoch 50/50\n",
            "781/781 [==============================] - 43s 55ms/step - loss: 0.4477 - accuracy: 0.8735 - val_loss: 0.4857 - val_accuracy: 0.8669 - lr: 3.0000e-04\n"
          ],
          "name": "stdout"
        }
      ]
    },
    {
      "cell_type": "code",
      "metadata": {
        "id": "knYt1Bap8tI3",
        "colab_type": "code",
        "colab": {
          "base_uri": "https://localhost:8080/",
          "height": 71
        },
        "outputId": "9af2389b-9da0-4a89-c35b-67334f167a48"
      },
      "source": [
        "scores = model.evaluate(X_test, Y_test, batch_size=128, verbose=2)\n",
        "print('\\nAccuracy: %.4f' % scores[1])"
      ],
      "execution_count": 13,
      "outputs": [
        {
          "output_type": "stream",
          "text": [
            "79/79 - 1s - loss: 0.4857 - accuracy: 0.8669\n",
            "\n",
            "Accuracy: 0.8669\n"
          ],
          "name": "stdout"
        }
      ]
    },
    {
      "cell_type": "code",
      "metadata": {
        "id": "Zv7HGxmnJJz7",
        "colab_type": "code",
        "colab": {}
      },
      "source": [
        "!mkdir model #저장할곳을 지정해 줘야하는데 그 지정되는 공간을 만드는 작업"
      ],
      "execution_count": 17,
      "outputs": []
    },
    {
      "cell_type": "code",
      "metadata": {
        "id": "dgOiX-DhJPb8",
        "colab_type": "code",
        "colab": {
          "base_uri": "https://localhost:8080/",
          "height": 71
        },
        "outputId": "5835932a-f64e-4dc4-e0c5-ad86c805e760"
      },
      "source": [
        "!ls -ltr #"
      ],
      "execution_count": 21,
      "outputs": [
        {
          "output_type": "stream",
          "text": [
            "total 8\n",
            "drwxr-xr-x 1 root root 4096 Jun 26 16:26 sample_data\n",
            "drwxr-xr-x 2 root root 4096 Jul  7 07:19 model\n"
          ],
          "name": "stdout"
        }
      ]
    },
    {
      "cell_type": "code",
      "metadata": {
        "id": "vhwELS1K8u3X",
        "colab_type": "code",
        "colab": {}
      },
      "source": [
        "model.save_weights('model/cifar10-full-v3.h5')"
      ],
      "execution_count": 19,
      "outputs": []
    },
    {
      "cell_type": "code",
      "metadata": {
        "id": "FvGCkblk-O5j",
        "colab_type": "code",
        "colab": {}
      },
      "source": [
        ""
      ],
      "execution_count": null,
      "outputs": []
    }
  ]
}